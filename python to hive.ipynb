{
 "cells": [
  {
   "cell_type": "code",
   "execution_count": 1,
   "metadata": {},
   "outputs": [
    {
     "name": "stdout",
     "output_type": "stream",
     "text": [
      "Defaulting to user installation because normal site-packages is not writeable\n",
      "Requirement already satisfied: pyhive in /opt/anaconda3/lib/python3.7/site-packages (0.6.5)\n",
      "Requirement already satisfied: python-dateutil in /opt/anaconda3/lib/python3.7/site-packages (from pyhive) (2.8.1)\n",
      "Requirement already satisfied: future in /opt/anaconda3/lib/python3.7/site-packages (from pyhive) (0.18.2)\n",
      "Requirement already satisfied: six>=1.5 in /opt/anaconda3/lib/python3.7/site-packages (from python-dateutil->pyhive) (1.14.0)\n",
      "Defaulting to user installation because normal site-packages is not writeable\n",
      "Requirement already satisfied: sasl in /opt/anaconda3/lib/python3.7/site-packages (0.3.1)\n",
      "Requirement already satisfied: six in /opt/anaconda3/lib/python3.7/site-packages (from sasl) (1.14.0)\n",
      "Defaulting to user installation because normal site-packages is not writeable\n",
      "Requirement already satisfied: thrift in /opt/anaconda3/lib/python3.7/site-packages (0.13.0)\n",
      "Requirement already satisfied: six>=1.7.2 in /opt/anaconda3/lib/python3.7/site-packages (from thrift) (1.14.0)\n"
     ]
    }
   ],
   "source": [
    "!pip install pyhive\n",
    "!pip install sasl\n",
    "!pip install thrift\n"
   ]
  },
  {
   "cell_type": "markdown",
   "metadata": {},
   "source": [
    "# Hive to Python"
   ]
  },
  {
   "cell_type": "code",
   "execution_count": 20,
   "metadata": {},
   "outputs": [
    {
     "name": "stdout",
     "output_type": "stream",
     "text": [
      "('ajay', 29)\n",
      "('tanishq', 25)\n"
     ]
    }
   ],
   "source": [
    "from pyhive import hive\n",
    "\n",
    "# Specify the HiveServer2 hostname and port\n",
    "hostname = 'ip-10-1-1-204.ap-south-1.compute.internal'\n",
    "port = 10000  # Default HiveServer2 port\n",
    "\n",
    "# Connect to Hive\n",
    "conn = hive.Connection(host=hostname, port=port, username='susan1232')\n",
    "\n",
    "# Create a cursor object\n",
    "cursor = conn.cursor()\n",
    "\n",
    "# Example: Use a specific database\n",
    "database_name = 'test'\n",
    "cursor.execute(f\"USE {database_name}\")\n",
    "\n",
    "# Example: Select data from a table\n",
    "table_name = 'data'\n",
    "query = f\"SELECT * FROM {table_name}\"\n",
    "cursor.execute(query)\n",
    "\n",
    "# Fetch the results\n",
    "results = cursor.fetchall()\n",
    "\n",
    "# Display the results\n",
    "for row in results:\n",
    "    print(row)\n",
    "\n",
    "# Close cursor and connection\n",
    "cursor.close()\n",
    "conn.close()\n"
   ]
  },
  {
   "cell_type": "markdown",
   "metadata": {},
   "source": [
    "# Pyhton to Hive"
   ]
  },
  {
   "cell_type": "code",
   "execution_count": 21,
   "metadata": {},
   "outputs": [
    {
     "name": "stdout",
     "output_type": "stream",
     "text": [
      "   id     name  age\n",
      "0   1    Alice   25\n",
      "1   2      Bob   30\n",
      "2   3  Charlie   35\n",
      "3   4    David   40\n",
      "4   5      Eve   45\n"
     ]
    }
   ],
   "source": [
    "import pandas as pd\n",
    "\n",
    "# Example DataFrame\n",
    "data = {\n",
    "    'id': [1, 2, 3, 4, 5],\n",
    "    'name': ['Alice', 'Bob', 'Charlie', 'David', 'Eve'],\n",
    "    'age': [25, 30, 35, 40, 45]\n",
    "}\n",
    "\n",
    "df = pd.DataFrame(data)\n",
    "print(df)\n"
   ]
  },
  {
   "cell_type": "code",
   "execution_count": 22,
   "metadata": {},
   "outputs": [],
   "source": [
    "from pyhive import hive\n",
    "\n",
    "# Specify the HiveServer2 hostname and port\n",
    "hostname = 'ip-10-1-1-204.ap-south-1.compute.internal'\n",
    "port = 10000  # Default HiveServer2 port\n",
    "username = 'susan1232'  # Your Hive username\n",
    "\n",
    "# Connect to Hive\n",
    "conn = hive.Connection(host=hostname, port=port, username=username)\n",
    "\n",
    "\n"
   ]
  },
  {
   "cell_type": "code",
   "execution_count": 23,
   "metadata": {},
   "outputs": [],
   "source": [
    "# Create a cursor object\n",
    "cursor = conn.cursor()\n",
    "\n",
    "# Example: Define table schema and create table\n",
    "table_name = 'my_table1'\n",
    "create_table_query = f\"\"\"\n",
    "CREATE TABLE IF NOT EXISTS {table_name} (\n",
    "    id INT,\n",
    "    name STRING,\n",
    "    age INT\n",
    ")\n",
    "\"\"\"\n",
    "cursor.execute(create_table_query)\n"
   ]
  },
  {
   "cell_type": "code",
   "execution_count": 24,
   "metadata": {},
   "outputs": [],
   "source": [
    "# Example: Insert data into Hive table\n",
    "for index, row in df.iterrows():\n",
    "    insert_query = f\"\"\"\n",
    "    INSERT INTO {table_name} (id, name, age)\n",
    "    VALUES ({row['id']}, '{row['name']}', {row['age']})\n",
    "    \"\"\"\n",
    "    cursor.execute(insert_query)\n",
    "\n",
    "# Commit changes\n",
    "conn.commit()\n",
    "\n",
    "# Close cursor and connection\n",
    "cursor.close()\n",
    "conn.close()\n"
   ]
  },
  {
   "cell_type": "code",
   "execution_count": null,
   "metadata": {},
   "outputs": [],
   "source": []
  },
  {
   "cell_type": "markdown",
   "metadata": {},
   "source": [
    "# Hive to Pyspark"
   ]
  },
  {
   "cell_type": "code",
   "execution_count": 37,
   "metadata": {
    "collapsed": true
   },
   "outputs": [
    {
     "name": "stdout",
     "output_type": "stream",
     "text": [
      "+---------+-----------------+------------+------+---------------+---------------+--------------+---------------+-------------+--------------+------------------------+----------------------+---------------------+------------+-------------------+---------------+--------------------+---------------+--------------+-------------------+---------------------+----------------------------------------------------------------------------------------------------------------------------------+----------------------------------------------------------------------------------------------------------------------------------+\n",
      "|CLIENTNUM|   Attrition_Flag|Customer_Age|Gender|Dependent_count|Education_Level|Marital_Status|Income_Category|Card_Category|Months_on_book|Total_Relationship_Count|Months_Inactive_12_mon|Contacts_Count_12_mon|Credit_Limit|Total_Revolving_Bal|Avg_Open_To_Buy|Total_Amt_Chng_Q4_Q1|Total_Trans_Amt|Total_Trans_Ct|Total_Ct_Chng_Q4_Q1|Avg_Utilization_Ratio|Naive_Bayes_Classifier_Attrition_Flag_Card_Category_Contacts_Count_12_mon_Dependent_count_Education_Level_Months_Inactive_12_mon_1|Naive_Bayes_Classifier_Attrition_Flag_Card_Category_Contacts_Count_12_mon_Dependent_count_Education_Level_Months_Inactive_12_mon_2|\n",
      "+---------+-----------------+------------+------+---------------+---------------+--------------+---------------+-------------+--------------+------------------------+----------------------+---------------------+------------+-------------------+---------------+--------------------+---------------+--------------+-------------------+---------------------+----------------------------------------------------------------------------------------------------------------------------------+----------------------------------------------------------------------------------------------------------------------------------+\n",
      "|768805383|Existing Customer|          45|     M|              3|    High School|       Married|    $60K - $80K|         Blue|            39|                       5|                     1|                    3|     12691.0|                777|        11914.0|               1.335|           1144|            42|              1.625|                0.061|                                                                                                                           9.34E-5|                                                                                                                           0.99991|\n",
      "|818770008|Existing Customer|          49|     F|              5|       Graduate|        Single| Less than $40K|         Blue|            44|                       6|                     1|                    2|      8256.0|                864|         7392.0|               1.541|           1291|            33|              3.714|                0.105|                                                                                                                           5.69E-5|                                                                                                                           0.99994|\n",
      "|713982108|Existing Customer|          51|     M|              3|       Graduate|       Married|   $80K - $120K|         Blue|            36|                       4|                     1|                    0|      3418.0|                  0|         3418.0|               2.594|           1887|            20|              2.333|                  0.0|                                                                                                                         2.1081E-5|                                                                                                                           0.99998|\n",
      "|769911858|Existing Customer|          40|     F|              4|    High School|       Unknown| Less than $40K|         Blue|            34|                       3|                     4|                    1|      3313.0|               2517|          796.0|               1.405|           1171|            20|              2.333|                 0.76|                                                                                                                         1.3366E-4|                                                                                                                           0.99987|\n",
      "|709106358|Existing Customer|          40|     M|              3|     Uneducated|       Married|    $60K - $80K|         Blue|            21|                       5|                     1|                    0|      4716.0|                  0|         4716.0|               2.175|            816|            28|                2.5|                  0.0|                                                                                                                         2.1676E-5|                                                                                                                           0.99998|\n",
      "|713061558|Existing Customer|          44|     M|              2|       Graduate|       Married|    $40K - $60K|         Blue|            36|                       3|                     1|                    2|      4010.0|               1247|         2763.0|               1.376|           1088|            24|              0.846|                0.311|                                                                                                                         5.5077E-5|                                                                                                                           0.99994|\n",
      "|810347208|Existing Customer|          51|     M|              4|        Unknown|       Married|        $120K +|         Gold|            46|                       6|                     1|                    3|     34516.0|               2264|        32252.0|               1.975|           1330|            31|              0.722|                0.066|                                                                                                                         1.2303E-4|                                                                                                                           0.99988|\n",
      "|818906208|Existing Customer|          32|     M|              0|    High School|       Unknown|    $60K - $80K|       Silver|            27|                       2|                     2|                    2|     29081.0|               1396|        27685.0|               2.204|           1538|            36|              0.714|                0.048|                                                                                                                         8.5795E-5|                                                                                                                           0.99991|\n",
      "|710930508|Existing Customer|          37|     M|              3|     Uneducated|        Single|    $60K - $80K|         Blue|            36|                       5|                     2|                    0|     22352.0|               2517|        19835.0|               3.355|           1350|            24|              1.182|                0.113|                                                                                                                         4.4796E-5|                                                                                                                           0.99996|\n",
      "|719661558|Existing Customer|          48|     M|              2|       Graduate|        Single|   $80K - $120K|         Blue|            36|                       6|                     3|                    3|     11656.0|               1677|         9979.0|               1.524|           1441|            32|              0.882|                0.144|                                                                                                                         3.0251E-4|                                                                                                                            0.9997|\n",
      "|708790833|Existing Customer|          42|     M|              5|     Uneducated|       Unknown|        $120K +|         Blue|            31|                       5|                     3|                    2|      6748.0|               1467|         5281.0|               0.831|           1201|            42|               0.68|                0.217|                                                                                                                         1.9094E-4|                                                                                                                           0.99981|\n",
      "|710821833|Existing Customer|          65|     M|              1|        Unknown|       Married|    $40K - $60K|         Blue|            54|                       6|                     2|                    3|      9095.0|               1587|         7508.0|               1.433|           1314|            26|              1.364|                0.174|                                                                                                                         1.9751E-4|                                                                                                                            0.9998|\n",
      "|710599683|Existing Customer|          56|     M|              1|        College|        Single|   $80K - $120K|         Blue|            36|                       3|                     6|                    0|     11751.0|                  0|        11751.0|               3.397|           1539|            17|               3.25|                  0.0|                                                                                                                         4.7799E-5|                                                                                                                           0.99995|\n",
      "|816082233|Existing Customer|          35|     M|              3|       Graduate|       Unknown|    $60K - $80K|         Blue|            30|                       5|                     1|                    3|      8547.0|               1666|         6881.0|               1.163|           1311|            33|                2.0|                0.195|                                                                                                                         9.6126E-5|                                                                                                                            0.9999|\n",
      "|712396908|Existing Customer|          57|     F|              2|       Graduate|       Married| Less than $40K|         Blue|            48|                       5|                     2|                    2|      2436.0|                680|         1756.0|                1.19|           1570|            29|              0.611|                0.279|                                                                                                                         1.1382E-4|                                                                                                                           0.99989|\n",
      "|714885258|Existing Customer|          44|     M|              4|        Unknown|       Unknown|   $80K - $120K|         Blue|            37|                       5|                     1|                    2|      4234.0|                972|         3262.0|               1.707|           1348|            27|                1.7|                 0.23|                                                                                                                         6.3492E-5|                                                                                                                           0.99994|\n",
      "|709967358|Existing Customer|          48|     M|              4|  Post-Graduate|        Single|   $80K - $120K|         Blue|            36|                       6|                     2|                    3|     30367.0|               2362|        28005.0|               1.708|           1671|            27|              0.929|                0.078|                                                                                                                         2.3623E-4|                                                                                                                           0.99976|\n",
      "|753327333|Existing Customer|          41|     M|              3|        Unknown|       Married|   $80K - $120K|         Blue|            34|                       4|                     4|                    1|     13535.0|               1291|        12244.0|               0.653|           1028|            21|              1.625|                0.095|                                                                                                                         1.4953E-4|                                                                                                                           0.99985|\n",
      "|806160108|Existing Customer|          61|     M|              1|    High School|       Married|    $40K - $60K|         Blue|            56|                       2|                     2|                    3|      3193.0|               2517|          676.0|               1.831|           1336|            30|              1.143|                0.788|                                                                                                                         1.7468E-4|                                                                                                                           0.99983|\n",
      "|709327383|Existing Customer|          45|     F|              2|       Graduate|       Married|        Unknown|         Blue|            37|                       6|                     1|                    2|     14470.0|               1157|        13313.0|               0.966|           1207|            21|              0.909|                 0.08|                                                                                                                         5.5077E-5|                                                                                                                           0.99994|\n",
      "+---------+-----------------+------------+------+---------------+---------------+--------------+---------------+-------------+--------------+------------------------+----------------------+---------------------+------------+-------------------+---------------+--------------------+---------------+--------------+-------------------+---------------------+----------------------------------------------------------------------------------------------------------------------------------+----------------------------------------------------------------------------------------------------------------------------------+\n",
      "only showing top 20 rows\n",
      "\n"
     ]
    }
   ],
   "source": [
    "from pyspark.sql import SparkSession\n",
    "\n",
    "# Create a Spark session with Hive support\n",
    "spark = SparkSession.builder \\\n",
    "    .appName(\"hive_connection_example\") \\\n",
    "    .config(\"hive.metastore.uris\", \"thrift://ip-10-1-2-24.ap-south-1.compute.internal:9083\") \\\n",
    "    .enableHiveSupport() \\\n",
    "    .getOrCreate()\n",
    "\n",
    "from pyspark.sql import SparkSession\n",
    "\n",
    "# Create a Spark session with Hive support\n",
    "spark = SparkSession.builder \\\n",
    "    .appName(\"hive_query_example\") \\\n",
    "    .config(\"hive.metastore.uris\", \"thrift://ip-10-1-2-24.ap-south-1.compute.internal:9083\") \\\n",
    "    .enableHiveSupport() \\\n",
    "    .getOrCreate()\n",
    "\n",
    "# Set the database to use\n",
    "spark.sql(\"USE Sampledatabase3\")\n",
    "\n",
    "# Query the data from the 'data' table\n",
    "data_df = spark.sql(\"SELECT * FROM my_table22 limit5\")\n",
    "\n",
    "# Show the content of the DataFrame\n",
    "data_df.show()\n",
    "\n",
    "\n"
   ]
  },
  {
   "cell_type": "markdown",
   "metadata": {},
   "source": [
    "# Pyspark to Hive"
   ]
  },
  {
   "cell_type": "code",
   "execution_count": 8,
   "metadata": {},
   "outputs": [],
   "source": [
    "from pyspark.sql import SparkSession\n",
    "\n",
    "# Create a Spark session with Hive support\n",
    "spark = SparkSession.builder \\\n",
    "    .appName(\"create_table_and_push_to_hive\") \\\n",
    "    .config(\"hive.metastore.uris\", \"thrift://ip-10-1-2-24.ap-south-1.compute.internal:9083\") \\\n",
    "    .enableHiveSupport() \\\n",
    "    .getOrCreate()\n",
    "\n",
    "\n",
    "from pyspark.sql.types import StructType, StructField, StringType, IntegerType\n",
    "\n",
    "# Define the schema for your table\n",
    "schema = StructType([\n",
    "    StructField(\"name\", StringType(), True),\n",
    "    StructField(\"age\", IntegerType(), True)\n",
    "])\n",
    "\n",
    "# Sample data to populate the DataFrame\n",
    "data = [(\"Alice\", 30), (\"Bob\", 40), (\"Charlie\", 35)]\n",
    "\n",
    "# Create a DataFrame with the specified schema and data\n",
    "df = spark.createDataFrame(data, schema)\n",
    "\n",
    "\n",
    "\n",
    "# Specify the database and table name\n",
    "database_name = \"test\"\n",
    "table_name = \"new_table1\"\n",
    "\n",
    "# Set the current database context\n",
    "spark.sql(f\"USE {database_name}\")\n",
    "\n",
    "# Save the DataFrame as a Hive table\n",
    "df.write.mode(\"overwrite\").saveAsTable(table_name)\n",
    "\n"
   ]
  },
  {
   "cell_type": "markdown",
   "metadata": {},
   "source": [
    "# Hadoop to hive without schema"
   ]
  },
  {
   "cell_type": "code",
   "execution_count": null,
   "metadata": {},
   "outputs": [],
   "source": [
    "from pyspark.sql import SparkSession\n",
    "\n",
    "# Create a Spark session with Hive support\n",
    "spark = SparkSession.builder \\\n",
    "    .appName(\"read_csv_and_save_to_hive\") \\\n",
    "    .config(\"hive.metastore.uris\", \"thrift://ip-10-1-2-24.ap-south-1.compute.internal:9083\") \\\n",
    "    .enableHiveSupport() \\\n",
    "    .getOrCreate()\n",
    "\n",
    "# Hadoop HDFS path where the CSV file is stored\n",
    "hadoop_path = \"hdfs://nameservice1/user/susan1232/testdata/part-00000-f36fb4eb-3c92-4417-9025-38259397f6a8-c000.csv\"\n",
    "\n",
    "# Read the CSV file into a DataFrame\n",
    "df = spark.read.csv(hadoop_path, header=False)\n",
    "\n",
    "# Specify the database and table name for the Hive table\n",
    "database_name = \"test\"\n",
    "table_name = \"csv_data\"\n",
    "\n",
    "# Set the current database context\n",
    "spark.sql(f\"USE {database_name}\")\n",
    "\n",
    "# Save the DataFrame as a Hive table\n",
    "df.write.mode(\"overwrite\").saveAsTable(table_name)\n",
    "\n"
   ]
  },
  {
   "cell_type": "markdown",
   "metadata": {},
   "source": [
    "# Hadoop to Hive"
   ]
  },
  {
   "cell_type": "code",
   "execution_count": 21,
   "metadata": {},
   "outputs": [],
   "source": [
    "from pyspark.sql import SparkSession\n",
    "\n",
    "# Create a Spark session with Hive support\n",
    "spark = SparkSession.builder \\\n",
    "    .appName(\"create_database_and_table_in_hive\") \\\n",
    "    .config(\"hive.metastore.uris\", \"thrift://ip-10-1-2-24.ap-south-1.compute.internal:9083\") \\\n",
    "    .enableHiveSupport() \\\n",
    "    .getOrCreate()\n",
    "\n",
    "\n",
    "# Hadoop HDFS path where the CSV file is stored\n",
    "hadoop_path = \"hdfs://nameservice1/user/susan1232/testdata/part-00000-f36fb4eb-3c92-4417-9025-38259397f6a8-c000.csv\"\n",
    "\n",
    "# Read the CSV file into a DataFrame\n",
    "df = spark.read.csv(hadoop_path, header=False, inferSchema=True)\n",
    "\n",
    "\n",
    "Database=\"Sampledatabase\"\n",
    "\n",
    "# Create the database if it doesn't exist\n",
    "spark.sql(f\"CREATE DATABASE IF NOT EXISTS {Database}\")\n",
    "\n",
    "\n",
    "# Define the schema of the table\n",
    "schema = \"name STRING, age INT\"\n",
    "\n",
    "# Specify the table name within the database\n",
    "table_name = \"my_table16\"\n",
    "\n",
    "# Set the current database context\n",
    "spark.sql(f\"USE {Database}\")\n",
    "\n",
    "# Create the table if it doesn't exist\n",
    "spark.sql(f\"CREATE TABLE IF NOT EXISTS {table_name} ({schema}) USING hive\")\n",
    "\n",
    "\n",
    "\n"
   ]
  },
  {
   "cell_type": "markdown",
   "metadata": {},
   "source": [
    "# Hadoop to Hive"
   ]
  },
  {
   "cell_type": "code",
   "execution_count": 25,
   "metadata": {},
   "outputs": [],
   "source": [
    "from pyspark.sql import SparkSession\n",
    "import pandas as pd\n",
    "\n",
    "# Create a Spark session\n",
    "spark = SparkSession.builder \\\n",
    "    .appName(\"Read CSV into DataFrame\") \\\n",
    "    .getOrCreate()\n",
    "\n",
    "# Define the path to your CSV file\n",
    "file_path = 'file:///home/susan1232/BankChurners.csv'\n",
    "\n",
    "# Read the CSV file into a DataFrame\n",
    "df = spark.read.csv(file_path, header=True, inferSchema=True)\n",
    "\n",
    "# Define the fixed HDFS directory where you want to save the CSV file\n",
    "hdfs_path = \"hdfs://nameservice1/user/susan1232/venkattest/output.csv\"\n",
    "\n",
    "# Write DataFrame to HDFS in CSV format with a single output file\n",
    "df.write.mode(\"overwrite\").csv(hdfs_path)\n",
    "\n",
    "# Stop the Spark session\n",
    "spark.stop()\n"
   ]
  },
  {
   "cell_type": "code",
   "execution_count": 32,
   "metadata": {},
   "outputs": [],
   "source": [
    "from pyspark.sql import SparkSession\n",
    "\n",
    "# Create a Spark session with Hive support\n",
    "spark = SparkSession.builder \\\n",
    "    .appName(\"create_database_and_table_in_hive\") \\\n",
    "    .config(\"hive.metastore.uris\", \"thrift://ip-10-1-2-24.ap-south-1.compute.internal:9083\") \\\n",
    "    .config(\"spark.sql.warehouse.dir\", \"hdfs://nameservice1/user/hive/warehouse\") \\\n",
    "    .enableHiveSupport() \\\n",
    "    .getOrCreate()\n"
   ]
  },
  {
   "cell_type": "code",
   "execution_count": 33,
   "metadata": {},
   "outputs": [],
   "source": [
    "# Hadoop HDFS path where the CSV file is stored\n",
    "hadoop_path = \"hdfs://nameservice1/user/susan1232/venkattest/output.csv\"\n",
    "\n",
    "# Read the CSV file into a DataFrame\n",
    "df = spark.read.csv(hadoop_path, header=False, schema=schema)\n"
   ]
  },
  {
   "cell_type": "code",
   "execution_count": 34,
   "metadata": {
    "scrolled": false
   },
   "outputs": [
    {
     "data": {
      "text/plain": [
       "DataFrame[]"
      ]
     },
     "execution_count": 34,
     "metadata": {},
     "output_type": "execute_result"
    }
   ],
   "source": [
    "Database=\"Sampledatabase3\"\n",
    "\n",
    "# Create the database if it doesn't exist\n",
    "spark.sql(f\"CREATE DATABASE IF NOT EXISTS {Database}\")"
   ]
  },
  {
   "cell_type": "code",
   "execution_count": 35,
   "metadata": {},
   "outputs": [
    {
     "data": {
      "text/plain": [
       "DataFrame[]"
      ]
     },
     "execution_count": 35,
     "metadata": {},
     "output_type": "execute_result"
    }
   ],
   "source": [
    "schema = \"CLIENTNUM BIGINT, Attrition_Flag STRING, Customer_Age INT, Gender STRING, \" \\\n",
    "         \"Dependent_count INT, Education_Level STRING, Marital_Status STRING, \" \\\n",
    "         \"Income_Category STRING, Card_Category STRING, Months_on_book INT, \" \\\n",
    "         \"Total_Relationship_Count INT, Months_Inactive_12_mon INT, Contacts_Count_12_mon INT, \" \\\n",
    "         \"Credit_Limit DOUBLE, Total_Revolving_Bal INT, Avg_Open_To_Buy DOUBLE, \" \\\n",
    "         \"Total_Amt_Chng_Q4_Q1 DOUBLE, Total_Trans_Amt INT, Total_Trans_Ct INT, \" \\\n",
    "         \"Total_Ct_Chng_Q4_Q1 DOUBLE, Avg_Utilization_Ratio DOUBLE, \" \\\n",
    "         \"Naive_Bayes_Classifier_Attrition_Flag_Card_Category_Contacts_Count_12_mon_Dependent_count_Education_Level_Months_Inactive_12_mon_1 DOUBLE, \" \\\n",
    "         \"Naive_Bayes_Classifier_Attrition_Flag_Card_Category_Contacts_Count_12_mon_Dependent_count_Education_Level_Months_Inactive_12_mon_2 DOUBLE\"\n",
    "\n",
    "\n",
    "\n",
    "# Specify the table name within the database\n",
    "table_name = \"my_table22\"\n",
    "\n",
    "# Set the current database context\n",
    "spark.sql(f\"USE {Database}\")\n",
    "\n",
    "# Create the table if it doesn't exist\n",
    "spark.sql(f\"CREATE TABLE IF NOT EXISTS {table_name} ({schema}) USING hive\")"
   ]
  },
  {
   "cell_type": "code",
   "execution_count": 36,
   "metadata": {},
   "outputs": [],
   "source": [
    "df.write.mode(\"overwrite\").saveAsTable(table_name)"
   ]
  },
  {
   "cell_type": "code",
   "execution_count": null,
   "metadata": {},
   "outputs": [],
   "source": []
  },
  {
   "cell_type": "code",
   "execution_count": null,
   "metadata": {},
   "outputs": [],
   "source": []
  },
  {
   "cell_type": "code",
   "execution_count": null,
   "metadata": {},
   "outputs": [],
   "source": []
  },
  {
   "cell_type": "code",
   "execution_count": null,
   "metadata": {},
   "outputs": [],
   "source": []
  }
 ],
 "metadata": {
  "kernelspec": {
   "display_name": "Python 3",
   "language": "python",
   "name": "python3"
  },
  "language_info": {
   "codemirror_mode": {
    "name": "ipython",
    "version": 3
   },
   "file_extension": ".py",
   "mimetype": "text/x-python",
   "name": "python",
   "nbconvert_exporter": "python",
   "pygments_lexer": "ipython3",
   "version": "3.7.6"
  }
 },
 "nbformat": 4,
 "nbformat_minor": 4
}
